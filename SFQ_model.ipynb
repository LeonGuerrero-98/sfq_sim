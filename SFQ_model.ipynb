{
 "cells": [
  {
   "cell_type": "markdown",
   "metadata": {},
   "source": [
    "### The Model Used in this Package\n",
    "\\\n",
    "A superconducting qubit coupled to a drive line is given by \n",
    "\\\n",
    "$$ H = H_0 + H_d = -\\frac{\\hbar\\omega_q}{2}\\sigma_z + \\Omega V_d(t) \\sigma_y $$\n",
    "\\\n",
    "In the rotating frame this becomes:\n",
    "$$ \\tilde{H_d} = \\Omega V_d(t)(cos(\\omega_q t)\\sigma_y - \\sin(\\omega_q t)\\sigma_x) $$\n",
    "\\\n",
    "In the SFQ regime $\\Omega$ can be written as:\n",
    "$$ \\Omega = \\frac{\\delta\\theta}{2 \\Phi_0} $$\n",
    "\\\n",
    "Writing this Hamiltonian using Qutip:\n",
    "\n"
   ]
  },
  {
   "cell_type": "code",
   "execution_count": 4,
   "metadata": {},
   "outputs": [],
   "source": [
    "from qutip import create, destroy, sesolve, sigmax, sigmay, sigmaz, basis, Qobj\n",
    "import numpy as np\n",
    "import matplotlib.pyplot as plt\n",
    "from sfq_sim.constants import *\n",
    "from sfq_sim.pulse_functions import *"
   ]
  },
  {
   "cell_type": "code",
   "execution_count": 5,
   "metadata": {},
   "outputs": [],
   "source": [
    "delta_theta = np.pi/100\n",
    "omega_10 = 5e8\n",
    "anharm = 1.5\n",
    "omega_20 = anharm*omega_10 + (2 * omega_10)\n",
    "b = delta_theta/(2*Phi_0) # Matrix for free Hamiltonian\n",
    "H_sfq = 1j*b*(create(3) - destroy(3)) # SFQ Hamiltonian\n",
    "free_matrix = [0,0,0],[0,omega_10,0],[0,0,omega_20] # Free Hamiltonian Matrix\n",
    "H_free = Qobj(free_matrix) # Free Hamiltonian converted to Qobj"
   ]
  },
  {
   "cell_type": "code",
   "execution_count": 13,
   "metadata": {},
   "outputs": [
    {
     "data": {
      "text/latex": [
       "Quantum object: dims=[[3], [3]], shape=(3, 3), type='oper', dtype=Dia, isherm=True$$\\left(\\begin{array}{cc}0 & 1 & 0\\\\1 & 0 & 1.414\\\\0 & 1.414 & 0\\end{array}\\right)$$"
      ],
      "text/plain": [
       "Quantum object: dims=[[3], [3]], shape=(3, 3), type='oper', dtype=Dia, isherm=True\n",
       "Qobj data =\n",
       "[[0.         1.         0.        ]\n",
       " [1.         0.         1.41421356]\n",
       " [0.         1.41421356 0.        ]]"
      ]
     },
     "execution_count": 13,
     "metadata": {},
     "output_type": "execute_result"
    }
   ],
   "source": [
    "# In the rotating frame\n",
    "\n",
    "omega_10 = 5e8\n",
    "anharm = 1.5\n",
    "omega_20 = anharm*omega_10 + (2 * omega_10)\n",
    "b = delta_theta/(2*Phi_0) # Matrix for free Hamiltonian\n",
    "H_sfq = 1j*b*(create(3) - destroy(3)) # SFQ Hamiltonian\n",
    "free_matrix = [0,0,0],[0,omega_10,0],[0,0,omega_20] # Free Hamiltonian Matrix\n",
    "H_free = Qobj(free_matrix) # Free Hamiltonian converted to Qobj"
   ]
  },
  {
   "cell_type": "code",
   "execution_count": null,
   "metadata": {},
   "outputs": [],
   "source": []
  }
 ],
 "metadata": {
  "kernelspec": {
   "display_name": "phd_qutip",
   "language": "python",
   "name": "python3"
  },
  "language_info": {
   "codemirror_mode": {
    "name": "ipython",
    "version": 3
   },
   "file_extension": ".py",
   "mimetype": "text/x-python",
   "name": "python",
   "nbconvert_exporter": "python",
   "pygments_lexer": "ipython3",
   "version": "3.11.9"
  }
 },
 "nbformat": 4,
 "nbformat_minor": 2
}
